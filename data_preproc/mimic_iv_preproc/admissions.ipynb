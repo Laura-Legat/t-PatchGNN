{
 "cells": [
  {
   "cell_type": "markdown",
   "metadata": {},
   "source": [
    "# MIMIC 4 data - dataset construction admissions"
   ]
  },
  {
   "cell_type": "markdown",
   "metadata": {},
   "source": [
    "Code taken from GRU-ODE-Bayes preprocessing; simplified and adapted for MIMIC 4 1.0"
   ]
  },
  {
   "cell_type": "code",
   "execution_count": 1,
   "metadata": {},
   "outputs": [],
   "source": [
    "import os\n",
    "import pandas as pd\n",
    "import matplotlib.pyplot as plt\n",
    "from datetime import datetime\n",
    "from datetime import timedelta\n",
    "import numpy as np\n",
    "\n",
    "from tqdm import tqdm\n",
    "\n",
    "# import config\n",
    "import json\n",
    "\n",
    "with open('../../../../config/config.json') as config_f:\n",
    "    config = json.load(config_f)\n",
    "\n",
    "\n",
    "file_path=config['mimic_iv_1.0_path']\n",
    "file_store_path = './preproc_output'"
   ]
  },
  {
   "cell_type": "code",
   "execution_count": null,
   "metadata": {},
   "outputs": [],
   "source": [
    "fn = file_path + '/core/admissions.csv.gz'\n",
    "adm = pd.read_csv(fn, compression='gzip')\n",
    "adm.head()"
   ]
  },
  {
   "cell_type": "code",
   "execution_count": 3,
   "metadata": {},
   "outputs": [
    {
     "name": "stdout",
     "output_type": "stream",
     "text": [
      "Number of patients remaining in the dataframe: \n",
      "171080\n"
     ]
    }
   ],
   "source": [
    "#keep only patients present in patients data\n",
    "# PREPROC STEP 1: FILTER PATIENTS WHO ARE IN THE ADMISSIONS TABLE\n",
    "patients_df=pd.read_csv(file_path + '/core/patients.csv.gz')\n",
    "patients_df[[\"subject_id\",\"anchor_age\"]].head()\n",
    "adm_dob=pd.merge(patients_df[[\"subject_id\",\"anchor_age\"]],adm,on=\"subject_id\")\n",
    "\n",
    "df=adm.groupby(\"subject_id\")[\"hadm_id\"].nunique()\n",
    "subj_ids=list(df[df==1].index)\n",
    "adm_1=adm_dob.loc[adm_dob[\"subject_id\"].isin(subj_ids)]\n",
    "print(\"Number of patients remaining in the dataframe: \")\n",
    "print(len(adm_1.index))"
   ]
  },
  {
   "cell_type": "code",
   "execution_count": 4,
   "metadata": {},
   "outputs": [
    {
     "name": "stdout",
     "output_type": "stream",
     "text": [
      "Number of patients remaining in the dataframe: \n",
      "65825\n"
     ]
    }
   ],
   "source": [
    "# time of stay in ICU\n",
    "# PREPROC STEP 2: FILTER PATIENTS WITH ICU STAY >2 and <30\n",
    "adm_1=adm_1.copy()\n",
    "adm_1['admittime']=pd.to_datetime(adm_1[\"admittime\"], format='%Y-%m-%d %H:%M:%S')\n",
    "adm_1['dischtime']=pd.to_datetime(adm_1[\"dischtime\"], format='%Y-%m-%d %H:%M:%S')\n",
    "\n",
    "adm_1[\"elapsed_time\"]=adm_1[\"dischtime\"]-adm_1[\"admittime\"]\n",
    "adm_1.head()\n",
    "adm_1[\"elapsed_days\"]=adm_1[\"elapsed_time\"].dt.days \n",
    "\n",
    "adm_2=adm_1.loc[(adm_1[\"elapsed_days\"]<30) & (adm_1[\"elapsed_days\"]>2)]\n",
    "print(\"Number of patients remaining in the dataframe: \")\n",
    "print(len(adm_2.index))"
   ]
  },
  {
   "cell_type": "code",
   "execution_count": 5,
   "metadata": {},
   "outputs": [
    {
     "name": "stdout",
     "output_type": "stream",
     "text": [
      "Number of patients remaining in the dataframe: \n",
      "43967\n"
     ]
    }
   ],
   "source": [
    "# only patients older than 15\n",
    "# PREPROC STEP 3: FILTER PATIENTS WHO ARE OLDER THAN > 15 YEARS AT ADMISSION TIME\n",
    "adm_2_15=adm_2.loc[adm_2[\"anchor_age\"]>15].copy()\n",
    "print(\"Number of patients remaining in the dataframe: \")\n",
    "print(len(adm_2_15.index))"
   ]
  },
  {
   "cell_type": "code",
   "execution_count": null,
   "metadata": {},
   "outputs": [],
   "source": [
    "fn = file_path+'/icu/chartevents.csv.gz'\n",
    "# this file is huge, we need to read in the data in chunks\n",
    "# chartevents = pd.read_csv(fn, compression='gzip')\n",
    "\n",
    "# workaround:\n",
    "ids = np.array([])\n",
    "for chunk in tqdm(pd.read_csv(fn, chunksize=1000000), desc='Reading chunk', unit='chunk'):\n",
    "    ids = np.append(ids, chunk['hadm_id'].unique())\n",
    "    ids = np.unique(ids) # all admission ids that have chartevents data available"
   ]
  },
  {
   "cell_type": "code",
   "execution_count": 7,
   "metadata": {},
   "outputs": [
    {
     "name": "stdout",
     "output_type": "stream",
     "text": [
      "Number of patients remaining in the dataframe: \n",
      "17874\n"
     ]
    }
   ],
   "source": [
    "# PREPROC STEP 4: FILTER PATIENTS WHO HAVE CHARTEVENTS DATA AVAILABLE\n",
    "adm_2_15_chart=adm_2_15.loc[adm_2_15[\"hadm_id\"].isin(ids)].copy()\n",
    "print(\"Number of patients remaining in the dataframe: \")\n",
    "print(len(adm_2_15_chart.index))"
   ]
  },
  {
   "cell_type": "code",
   "execution_count": 8,
   "metadata": {},
   "outputs": [],
   "source": [
    "adm_2_15_chart.to_csv(file_store_path + '/admissions_processed.csv')"
   ]
  }
 ],
 "metadata": {
  "kernelspec": {
   "display_name": "myenv8",
   "language": "python",
   "name": "python3"
  },
  "language_info": {
   "codemirror_mode": {
    "name": "ipython",
    "version": 3
   },
   "file_extension": ".py",
   "mimetype": "text/x-python",
   "name": "python",
   "nbconvert_exporter": "python",
   "pygments_lexer": "ipython3",
   "version": "3.11.11"
  },
  "toc-autonumbering": false,
  "toc-showcode": false,
  "toc-showmarkdowntxt": false,
  "toc-showtags": false
 },
 "nbformat": 4,
 "nbformat_minor": 4
}
