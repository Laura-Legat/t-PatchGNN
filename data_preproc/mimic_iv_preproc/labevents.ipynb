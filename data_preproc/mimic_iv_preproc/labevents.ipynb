{
 "cells": [
  {
   "cell_type": "markdown",
   "metadata": {},
   "source": [
    "# MIMIC 4 data - dataset construction labevents"
   ]
  },
  {
   "cell_type": "markdown",
   "metadata": {},
   "source": [
    "Code taken from GRU-ODE-Bayes preprocessing; simplified and adapted for MIMIC 4 1.0"
   ]
  },
  {
   "cell_type": "code",
   "execution_count": 1,
   "metadata": {},
   "outputs": [],
   "source": [
    "import os\n",
    "import pandas as pd\n",
    "import matplotlib.pyplot as plt\n",
    "from datetime import datetime\n",
    "from datetime import timedelta\n",
    "import numpy as np\n",
    "from sklearn.model_selection import train_test_split\n",
    "\n",
    "# add these lines to get the config to work\n",
    "import json\n",
    "\n",
    "with open('../../../../config/config.json') as config_f:\n",
    "    config = json.load(config_f)\n",
    "\n",
    "\n",
    "file_path=config['mimic_iv_1.0_path']\n",
    "file_store_path = './preproc_output'"
   ]
  },
  {
   "cell_type": "code",
   "execution_count": 2,
   "metadata": {},
   "outputs": [],
   "source": [
    "pd.set_option('display.max_rows', 50)\n",
    "pd.set_option('display.max_columns', 300)"
   ]
  },
  {
   "cell_type": "code",
   "execution_count": null,
   "metadata": {},
   "outputs": [],
   "source": [
    "adm = pd.read_csv(file_store_path + \"/admissions_processed.csv\")\n",
    "adm.head()"
   ]
  },
  {
   "cell_type": "code",
   "execution_count": null,
   "metadata": {},
   "outputs": [],
   "source": [
    "df = pd.DataFrame()\n",
    "for chunk in pd.read_csv(file_path + \"/hosp/labevents.csv.gz\", chunksize=500000):\n",
    "    adm_ids=list(adm[\"hadm_id\"])\n",
    "    chunk=chunk.loc[chunk[\"hadm_id\"].isin(adm_ids)]\n",
    "    df = pd.concat([df, chunk[[\"subject_id\",\"hadm_id\",\"charttime\",\"valuenum\",\"itemid\"]]], ignore_index=True)"
   ]
  },
  {
   "cell_type": "code",
   "execution_count": 5,
   "metadata": {},
   "outputs": [
    {
     "name": "stdout",
     "output_type": "stream",
     "text": [
      "Number of patients remaining in the database: \n",
      "17854\n"
     ]
    }
   ],
   "source": [
    "# only choose previously selected admission ids.\n",
    "print(\"Number of patients remaining in the database: \")\n",
    "print(df[\"subject_id\"].nunique())"
   ]
  },
  {
   "cell_type": "code",
   "execution_count": null,
   "metadata": {},
   "outputs": [],
   "source": [
    "# get item ids\n",
    "item_id=pd.read_csv(file_path + \"/hosp/d_labitems.csv.gz\")\n",
    "item_id_1=item_id[[\"itemid\",\"label\"]]\n",
    "item_id_1.head()"
   ]
  },
  {
   "cell_type": "code",
   "execution_count": 7,
   "metadata": {},
   "outputs": [
    {
     "name": "stdout",
     "output_type": "stream",
     "text": [
      "Number of patients remaining in the database: \n",
      "17854\n"
     ]
    }
   ],
   "source": [
    "# get names of administered items\n",
    "lab2=pd.merge(df,item_id_1,on=\"itemid\")\n",
    "lab2.head()\n",
    "print(\"Number of patients remaining in the database: \")\n",
    "print(lab2[\"subject_id\"].nunique())"
   ]
  },
  {
   "cell_type": "code",
   "execution_count": 8,
   "metadata": {},
   "outputs": [
    {
     "name": "stdout",
     "output_type": "stream",
     "text": [
      "Number of patients remaining in the database: \n",
      "17853\n"
     ]
    }
   ],
   "source": [
    "# get only top 150 most used tests\n",
    "n_best=150\n",
    "pat_for_item=lab2.groupby(\"label\")[\"subject_id\"].nunique()\n",
    "frequent_labels=pat_for_item.sort_values(ascending=False)[:n_best]\n",
    "lab3=lab2.loc[lab2[\"label\"].isin(list(frequent_labels.index))].copy()\n",
    "\n",
    "print(\"Number of patients remaining in the database: \")\n",
    "print(lab3[\"subject_id\"].nunique())"
   ]
  },
  {
   "cell_type": "code",
   "execution_count": 9,
   "metadata": {},
   "outputs": [],
   "source": [
    "# only select the subset that was used in the paper (only missing is INR(PT))\n",
    "# added missing MCHC to make it comparable to GRU-ODE-Bayes MIMIC-III\n",
    "subset=[\"Albumin\",\"Alanine Aminotransferase (ALT)\",\"Alkaline Phosphatase\",\"Anion Gap\",\"Asparate Aminotransferase (AST)\",\"Base Excess\",\"Basophils\",\"Bicarbonate\",\"Bilirubin, Total\",\"Calcium, Total\",\"Calculated Total CO2\",\"Chloride\",\"Creatinine\",\"Eosinophils\",\"Glucose\",\"Hematocrit\",\"Hemoglobin\",\n",
    "\"Lactate\",\"Lymphocytes\",\"MCH\", \"MCHC\", \"MCV\",\"Magnesium\",\"Monocytes\",\"Neutrophils\",\"PT\",\"PTT\",\"Phosphate\",\"Platelet Count\",\"Potassium\",\"RDW\",\"Red Blood Cells\",\"Sodium\",\"Specific Gravity\",\"Urea Nitrogen\",\"White Blood Cells\",\"pCO2\",\"pH\",\"pO2\"]\n",
    "\n",
    "lab3=lab3.loc[lab3[\"label\"].isin(subset)].copy()"
   ]
  },
  {
   "cell_type": "code",
   "execution_count": 11,
   "metadata": {},
   "outputs": [
    {
     "name": "stdout",
     "output_type": "stream",
     "text": [
      "Number of patients remaining in the database: \n",
      "17851\n"
     ]
    }
   ],
   "source": [
    "print(\"Number of patients remaining in the database: \")\n",
    "print(lab3[\"subject_id\"].nunique())"
   ]
  },
  {
   "cell_type": "code",
   "execution_count": 10,
   "metadata": {},
   "outputs": [],
   "source": [
    "lab3.to_csv(file_store_path + \"/lab_processed.csv\")"
   ]
  }
 ],
 "metadata": {
  "kernelspec": {
   "display_name": "myenv8",
   "language": "python",
   "name": "python3"
  },
  "language_info": {
   "codemirror_mode": {
    "name": "ipython",
    "version": 3
   },
   "file_extension": ".py",
   "mimetype": "text/x-python",
   "name": "python",
   "nbconvert_exporter": "python",
   "pygments_lexer": "ipython3",
   "version": "3.11.11"
  }
 },
 "nbformat": 4,
 "nbformat_minor": 4
}
